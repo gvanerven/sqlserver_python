{
 "cells": [
  {
   "cell_type": "code",
   "execution_count": null,
   "metadata": {},
   "outputs": [],
   "source": [
    "%matplotlib inline\n",
    "import pandas as pd\n",
    "import matplotlib.pyplot as plt\n",
    "from ggplot import *\n",
    "import numpy as np\n",
    "import scipy as sp\n",
    "import scipy.stats as sts\n",
    "from sklearn import preprocessing\n",
    "import statsmodels.api as sm\n",
    "import math\n"
   ]
  },
  {
   "cell_type": "code",
   "execution_count": null,
   "metadata": {},
   "outputs": [],
   "source": [
    "#df_desempenho = pd.read_csv(\"dados_desempenho_sql_python.csv\", sep=\";\")\n",
    "#df_desempenho.head()\n"
   ]
  },
  {
   "cell_type": "code",
   "execution_count": null,
   "metadata": {},
   "outputs": [],
   "source": [
    "#df_desempenho_mssql = df_desempenho.query(\"origem == 'SQL_Server'\")\n",
    "#df_desempenho_extpython = df_desempenho.query(\"origem == 'Python_Externo'\")\n",
    "df_desempenho_mssql = pd.read_csv(\"dados_desempenho_mssql.csv\", sep=\";\")\n",
    "df_desempenho_extpython = pd.read_csv(\"dados_desempenho_ext_python.csv\", sep=\"|\")\n",
    "print(df_desempenho_mssql.shape)\n",
    "print(df_desempenho_extpython.shape)"
   ]
  },
  {
   "cell_type": "code",
   "execution_count": null,
   "metadata": {},
   "outputs": [],
   "source": [
    "pivot_df_desempenho_mssql_tp_python = df_desempenho_mssql.drop('tmp_total', axis=1).pivot_table(index=['rodada','qtd_amostra'], columns=['execucao'])\n",
    "pivot_df_desempenho_mssql_tp_python.head()"
   ]
  },
  {
   "cell_type": "code",
   "execution_count": null,
   "metadata": {},
   "outputs": [],
   "source": [
    "pivot_df_desempenho_mssql_tp_python_tmp = df_desempenho_mssql.drop('tmp_total', axis=1).pivot_table(index=['rodada','qtd_amostra'], columns=['execucao'])\n",
    "pivot_df_desempenho_mssql_tp_total_tmp = df_desempenho_mssql.drop('tmp_python', axis=1).pivot_table(index=['rodada','qtd_amostra'], columns=['execucao'])\n",
    "\n",
    "pivot_df_desempenho_extpython_tp_python_tmp = df_desempenho_extpython.drop('tmp_total', axis=1).pivot_table(index=['rodada','qtd_amostra'], columns=['execucao'])\n",
    "pivot_df_desempenho_extpython_tp_total_tmp = df_desempenho_extpython.drop('tmp_python', axis=1).pivot_table(index=['rodada','qtd_amostra'], columns=['execucao'])\n",
    "\n",
    "pivot_df_desempenho_mssql_tp_python = pivot_df_desempenho_mssql_tp_python_tmp.copy()\n",
    "pivot_df_desempenho_mssql_tp_total = pivot_df_desempenho_mssql_tp_total_tmp.copy()\n",
    "pivot_df_desempenho_extpython_tp_python = pivot_df_desempenho_extpython_tp_python_tmp.copy()\n",
    "pivot_df_desempenho_extpython_tp_total = pivot_df_desempenho_extpython_tp_total_tmp.copy()\n",
    "\n",
    "pivot_df_desempenho_mssql_tp_python[\"qtd_amostra_col\"] = pivot_df_desempenho_mssql_tp_python_tmp.index.levels[1]\n",
    "pivot_df_desempenho_mssql_tp_python[\"media\"] = pivot_df_desempenho_mssql_tp_python_tmp.mean(axis=1)\n",
    "pivot_df_desempenho_mssql_tp_python[\"sem\"] = np.apply_along_axis(sts.sem, axis=1, arr=pivot_df_desempenho_mssql_tp_python_tmp.as_matrix())\n",
    "\n",
    "pivot_df_desempenho_mssql_tp_total[\"qtd_amostra_col\"] = pivot_df_desempenho_mssql_tp_total_tmp.index.levels[1]\n",
    "pivot_df_desempenho_mssql_tp_total[\"media\"] = pivot_df_desempenho_mssql_tp_total_tmp.mean(axis=1)\n",
    "pivot_df_desempenho_mssql_tp_total[\"sem\"] = np.apply_along_axis(sts.sem, axis=1, arr=pivot_df_desempenho_mssql_tp_total_tmp.as_matrix())\n",
    "\n",
    "pivot_df_desempenho_extpython_tp_python[\"qtd_amostra_col\"] = pivot_df_desempenho_extpython_tp_python_tmp.index.levels[1]\n",
    "pivot_df_desempenho_extpython_tp_python[\"media\"] = pivot_df_desempenho_extpython_tp_python_tmp.mean(axis=1)\n",
    "pivot_df_desempenho_extpython_tp_python[\"sem\"] = np.apply_along_axis(sts.sem, axis=1, arr=pivot_df_desempenho_extpython_tp_python_tmp.as_matrix())\n",
    "\n",
    "pivot_df_desempenho_extpython_tp_total[\"qtd_amostra_col\"] = pivot_df_desempenho_extpython_tp_total_tmp.index.levels[1]\n",
    "pivot_df_desempenho_extpython_tp_total[\"media\"] = pivot_df_desempenho_extpython_tp_total_tmp.mean(axis=1)\n",
    "pivot_df_desempenho_extpython_tp_total[\"sem\"] = np.apply_along_axis(sts.sem, axis=1, arr=pivot_df_desempenho_extpython_tp_total_tmp.as_matrix())\n",
    "\n",
    "pivot_df_desempenho_extpython_tp_total\n"
   ]
  },
  {
   "cell_type": "code",
   "execution_count": null,
   "metadata": {},
   "outputs": [],
   "source": [
    "#print(scipy.stats.sem(yij[0,0:50]))\n",
    "#np.apply_along_axis(scipy.stats.sem, axis=1, arr=yij)\n",
    "#np.apply_along_axis(scipy.stats.sem, axis=1, arr=pivot_df_desempenho_extpython_tp_total_tmp.as_matrix())\n",
    "#pivot_df_desempenho_extpython_tp_total_tmp.as_matrix()[0,:]\n",
    "#np.apply_along_axis(scipy.stats.sem, axis=1, arr=yij[:,0:50])\n",
    "#np.apply_along_axis(scipy.stats.sem, axis=1, arr=pivot_df_desempenho_extpython_tp_total_tmp.as_matrix())\n",
    "#confidence = 0.95\n",
    "#df = pivot_df_desempenho_extpython_tp_python_tmp.as_matrix().shape[1] - 1\n",
    "#t_stats = sp.stats.t._ppf((1+confidence)/2., df)\n",
    "#t_stats = sp.stats.t._ppf((1+confidence)/2., 40)\n",
    "#t_stats\n",
    "#sts.probplot(, plot=plt)\n",
    "#plt.show()\n",
    "\n",
    "confidence = 0.95\n",
    "df = pivot_df_desempenho_extpython_tp_python_tmp.as_matrix().shape[1] - 1\n",
    "t_stats = sp.stats.t._ppf((1+confidence)/2., df)\n",
    "\n",
    "pivot_df_desempenho_mssql_tp_python[\"media_icmenos\"] = pivot_df_desempenho_mssql_tp_python[\"media\"] - t_stats*pivot_df_desempenho_mssql_tp_python[\"sem\"]\n",
    "pivot_df_desempenho_mssql_tp_total[\"media_icmenos\"] = pivot_df_desempenho_mssql_tp_total[\"media\"] - t_stats*pivot_df_desempenho_mssql_tp_total[\"sem\"]\n",
    "pivot_df_desempenho_extpython_tp_python[\"media_icmenos\"] = pivot_df_desempenho_extpython_tp_python[\"media\"] - t_stats*pivot_df_desempenho_extpython_tp_python[\"sem\"]\n",
    "pivot_df_desempenho_extpython_tp_total[\"media_icmenos\"] = pivot_df_desempenho_extpython_tp_total[\"media\"] - t_stats*pivot_df_desempenho_extpython_tp_total[\"sem\"]\n",
    "\n",
    "pivot_df_desempenho_mssql_tp_python[\"media_icmais\"] = pivot_df_desempenho_mssql_tp_python[\"media\"] + t_stats*pivot_df_desempenho_mssql_tp_python[\"sem\"]\n",
    "pivot_df_desempenho_mssql_tp_total[\"media_icmais\"] = pivot_df_desempenho_mssql_tp_total[\"media\"] + t_stats*pivot_df_desempenho_mssql_tp_total[\"sem\"]\n",
    "pivot_df_desempenho_extpython_tp_python[\"media_icmais\"] = pivot_df_desempenho_extpython_tp_python[\"media\"] + t_stats*pivot_df_desempenho_extpython_tp_python[\"sem\"]\n",
    "pivot_df_desempenho_extpython_tp_total[\"media_icmais\"] = pivot_df_desempenho_extpython_tp_total[\"media\"] + t_stats*pivot_df_desempenho_extpython_tp_total[\"sem\"]\n",
    "\n",
    "pivot_df_desempenho_mssql_tp_python\n"
   ]
  },
  {
   "cell_type": "code",
   "execution_count": null,
   "metadata": {},
   "outputs": [],
   "source": [
    "#fatores: qtd_amostra e exec_int_ext. variável resposta: tempo total de execução\n",
    "# Qtd 1000 -> -1 (A)\n",
    "# Qtd 1024000 -> +1\n",
    "# Exec Ext -> -1 (B)\n",
    "# Exec Int -> +1\n",
    "p2kfatc_qtdamostra_loc_exec = pd.DataFrame()\n",
    "#p2kfatc_qtdamostra_loc_exec\n",
    "aux = pd.DataFrame(pivot_df_desempenho_extpython_tp_total[0:1])\n",
    "aux[\"Q\"] = [1]\n",
    "aux[\"A\"] = [-1]\n",
    "aux[\"B\"] = [-1]\n",
    "aux[\"AB\"] = [1]\n",
    "p2kfatc_qtdamostra_loc_exec = p2kfatc_qtdamostra_loc_exec.append(aux)\n",
    "aux = pd.DataFrame(pivot_df_desempenho_extpython_tp_total[4:5])\n",
    "aux[\"Q\"] = [1]\n",
    "aux[\"A\"] = [1]\n",
    "aux[\"B\"] = [-1]\n",
    "aux[\"AB\"] = [-1]\n",
    "p2kfatc_qtdamostra_loc_exec = p2kfatc_qtdamostra_loc_exec.append(aux)\n",
    "#pivot_df_desempenho_mssql_tp_total\n",
    "aux = pd.DataFrame(pivot_df_desempenho_mssql_tp_total[0:1])\n",
    "aux[\"Q\"] = [1]\n",
    "aux[\"A\"] = [-1]\n",
    "aux[\"B\"] = [1]\n",
    "aux[\"AB\"] = [-1]\n",
    "p2kfatc_qtdamostra_loc_exec = p2kfatc_qtdamostra_loc_exec.append(aux)\n",
    "aux = pd.DataFrame(pivot_df_desempenho_mssql_tp_total[4:5])\n",
    "aux[\"Q\"] = [1]\n",
    "aux[\"A\"] = [1]\n",
    "aux[\"B\"] = [1]\n",
    "aux[\"AB\"] = [1]\n",
    "p2kfatc_qtdamostra_loc_exec = p2kfatc_qtdamostra_loc_exec.append(aux)\n",
    "p2kfatc_qtdamostra_loc_exec"
   ]
  },
  {
   "cell_type": "code",
   "execution_count": null,
   "metadata": {},
   "outputs": [],
   "source": [
    "def calc_qs(data=None):\n",
    "    if data is None:\n",
    "        return None\n",
    "    aux_array = data.as_matrix()\n",
    "    media = aux_array[0:,-6]\n",
    "    print(aux_array[0:,-6])\n",
    "    print(aux_array[0:,-4:])\n",
    "    return np.matmul(media, aux_array[0:,-4:])/aux_array.shape[0]\n",
    "    \n",
    "Qs = calc_qs(p2kfatc_qtdamostra_loc_exec)\n",
    "Qs"
   ]
  },
  {
   "cell_type": "code",
   "execution_count": null,
   "metadata": {},
   "outputs": [],
   "source": [
    "np.matmul(np.array([1,2,3,4]),np.array([[1,2,3,4],[1,2,3,4]]).T)\n",
    "(np.array([[1,2,3,4], [1,2,3,4]])**2).sum()"
   ]
  },
  {
   "cell_type": "code",
   "execution_count": null,
   "metadata": {},
   "outputs": [],
   "source": [
    "def calc_e(data=None):\n",
    "    if data is None:\n",
    "        return None\n",
    "    aux_array = data.as_matrix()\n",
    "    media = aux_array[0:,-6]\n",
    "    rs = aux_array[0:,0:50]\n",
    "    e_matrix = []\n",
    "    for i, r in enumerate(rs):\n",
    "        #if e_matrix == None:\n",
    "        #    e_matrix = r-media[i] #opera sobre cada elemento do vetor r\n",
    "        #else:\n",
    "        e_matrix.append(list(r-media[i]))\n",
    "    return (np.array(e_matrix), media, rs)\n",
    "\n",
    "mat_e, media, yij = calc_e(p2kfatc_qtdamostra_loc_exec)\n",
    "print(mat_e.shape)\n",
    "print(media)"
   ]
  },
  {
   "cell_type": "code",
   "execution_count": null,
   "metadata": {},
   "outputs": [],
   "source": [
    "#print(0.67**2 + 4.67**2 + 5.33**2 + 4.67**2 + 5.33**2 + 0.67**2 + 4.33**2 + 6.67**2 + 2.33**2 + 3.67**2 + 6.33**2 + 2.67**2)\n",
    "SSE = (mat_e**2).sum()\n",
    "SSE\n"
   ]
  },
  {
   "cell_type": "code",
   "execution_count": null,
   "metadata": {},
   "outputs": [],
   "source": [
    "SSY = (yij**2).sum()\n",
    "SSs = (Qs**2)*(4)*50\n",
    "SS0 = SSs[0]\n",
    "SSA = SSs[1]\n",
    "SSB = SSs[2]\n",
    "SSAB = SSs[3]\n",
    "print(SSY, SS0, SSA, SSB, SSAB)\n",
    "print(SSY - SSs.sum())\n"
   ]
  },
  {
   "cell_type": "code",
   "execution_count": null,
   "metadata": {},
   "outputs": [],
   "source": [
    "SST = SSA + SSB + SSAB + SSE\n",
    "SST"
   ]
  },
  {
   "cell_type": "code",
   "execution_count": null,
   "metadata": {},
   "outputs": [],
   "source": [
    "expl_fatorA = SSA/SST\n",
    "expl_fatorB = SSB/SST\n",
    "expl_fatorAB = SSAB/SST\n",
    "expl_erro = SSE/SST\n",
    "print(expl_fatorA)\n",
    "print(expl_fatorB)\n",
    "print(expl_fatorAB)\n",
    "print(expl_erro)\n"
   ]
  },
  {
   "cell_type": "code",
   "execution_count": null,
   "metadata": {},
   "outputs": [],
   "source": [
    "#fatores: qtd_amostra e exec_int_ext. variável resposta: tempo total de execução\n",
    "# Qtd 1000 -> -1 (A)\n",
    "# Qtd 1024000 -> +1\n",
    "# Exec Ext -> -1 (B)\n",
    "# Exec Int -> +1\n",
    "p2kfatc_qtdamostra_loc_exec10 = pd.DataFrame()\n",
    "#p2kfatc_qtdamostra_loc_exec\n",
    "aux = pd.DataFrame(pivot_df_desempenho_extpython_tp_total[0:1])\n",
    "aux[\"Q\"] = [1]\n",
    "aux[\"A\"] = [-1]\n",
    "aux[\"B\"] = [-1]\n",
    "aux[\"AB\"] = [1]\n",
    "p2kfatc_qtdamostra_loc_exec10 = p2kfatc_qtdamostra_loc_exec.append(aux)\n",
    "aux = pd.DataFrame(pivot_df_desempenho_extpython_tp_total[10:])\n",
    "aux[\"Q\"] = [1]\n",
    "aux[\"A\"] = [1]\n",
    "aux[\"B\"] = [-1]\n",
    "aux[\"AB\"] = [-1]\n",
    "p2kfatc_qtdamostra_loc_exec10 = p2kfatc_qtdamostra_loc_exec.append(aux)\n",
    "#pivot_df_desempenho_mssql_tp_total\n",
    "aux = pd.DataFrame(pivot_df_desempenho_mssql_tp_total[0:1])\n",
    "aux[\"Q\"] = [1]\n",
    "aux[\"A\"] = [-1]\n",
    "aux[\"B\"] = [1]\n",
    "aux[\"AB\"] = [-1]\n",
    "p2kfatc_qtdamostra_loc_exec10 = p2kfatc_qtdamostra_loc_exec.append(aux)\n",
    "aux = pd.DataFrame(pivot_df_desempenho_mssql_tp_total[10:])\n",
    "aux[\"Q\"] = [1]\n",
    "aux[\"A\"] = [1]\n",
    "aux[\"B\"] = [1]\n",
    "aux[\"AB\"] = [1]\n",
    "p2kfatc_qtdamostra_loc_exec10 = p2kfatc_qtdamostra_loc_exec.append(aux)\n",
    "p2kfatc_qtdamostra_loc_exec10"
   ]
  },
  {
   "cell_type": "code",
   "execution_count": null,
   "metadata": {},
   "outputs": [],
   "source": [
    "Qs = calc_qs(p2kfatc_qtdamostra_loc_exec10)\n",
    "mat_e, media, yij = calc_e(p2kfatc_qtdamostra_loc_exec10)\n",
    "SSE = (mat_e**2).sum()\n",
    "SSE\n",
    "SSY = (yij**2).sum()\n",
    "SSs = (Qs**2)*(4)*50\n",
    "SS0 = SSs[0]\n",
    "SSA = SSs[1]\n",
    "SSB = SSs[2]\n",
    "SSAB = SSs[3]\n",
    "print(SSY, SS0, SSA, SSB, SSAB)\n",
    "print(SSY - SSs.sum())\n",
    "SST = SSA + SSB + SSAB + SSE\n",
    "SST\n",
    "expl_fatorA_10 = SSA/SST\n",
    "expl_fatorB_10 = SSB/SST\n",
    "expl_fatorAB_10 = SSAB/SST\n",
    "expl_erro_10 = SSE/SST\n",
    "MSA_10 = SSA/3\n",
    "MSB_10 = SSB/3\n",
    "MSE_10 = SSE/3(50-1)\n",
    "print(expl_fatorA_10)\n",
    "print(expl_fatorB_10)\n",
    "print(expl_fatorAB_10)\n",
    "print(expl_erro_10)\n",
    "\n",
    "Fcomp = MSA_10/MSE_10\n",
    "Fcomp\n"
   ]
  },
  {
   "cell_type": "code",
   "execution_count": null,
   "metadata": {},
   "outputs": [],
   "source": [
    "ext_tp_total_X = pivot_df_desempenho_extpython_tp_total[\"qtd_amostra_col\"].values\n",
    "ext_tp_total_Y = pivot_df_desempenho_extpython_tp_total[\"media\"].values\n",
    "ext_tp_total_X"
   ]
  },
  {
   "cell_type": "code",
   "execution_count": null,
   "metadata": {},
   "outputs": [],
   "source": [
    "def lm_simples(X, Y, confidence=0.95):\n",
    "    n = X.shape[0]\n",
    "    df = n - 2\n",
    "    t_stats = sp.stats.t._ppf((1+confidence)/2., df)\n",
    "    mean_x = X.mean()\n",
    "    mean_y = Y.mean()\n",
    "    sum_sqr_X = (X**2).sum()\n",
    "    sum_sqr_Y = (Y**2).sum()    \n",
    "    sum_xy = (X*Y).sum()\n",
    "    b1 = (sum_xy-(n*mean_x*mean_y))/ (sum_sqr_X - (n*mean_x**2))  #coeficiente angular\n",
    "    b0 = mean_y - (b1*mean_x)\n",
    "    SST = sum_sqr_Y - (n*mean_y**2)\n",
    "    SSE = sum_sqr_Y - (b0*Y.sum()) - (b1*sum_xy)\n",
    "    SSR = SST-SSE\n",
    "    Rsqr = SSR/SST\n",
    "    MSE = SSE/(n-2)\n",
    "    Se = math.sqrt(MSE)\n",
    "    #S2xy = ((Y - mean_y)*(X - mean_x)).sum()\n",
    "    #Rxy = S2xy/(Y.std()*X.std())\n",
    "    Sb0 = Se*(math.sqrt( (1/n) + (mean_x**2/(sum_sqr_X - n*mean_x**2))  ))\n",
    "    Sb1 = Se/(math.sqrt( (sum_sqr_X - n*mean_x**2) ))\n",
    "    ICB0 = (b0 - (t_stats*Sb0), b0 + (t_stats*Sb0) )\n",
    "    ICB1 = (b1 - (t_stats*Sb1), b1 + (t_stats*Sb1) )    \n",
    "    return {\"b0\": b0, \"b1\": b1, \"SST\": SST, \"SSE\": SSE, \"SSR\": SSR, \"Rsqr\": Rsqr, \"MSE\": MSE, \"Se\": Se, \"Sb0\": Sb0, \"Sb1\": Sb1, \"ICB0\": ICB0, \"ICB1\": ICB1}\n",
    "\n",
    "#pivot_df_desempenho_extpython_tp_total.plot(y='media', x='qtd_amostra_col')\n",
    "ext_tp_total_X = pivot_df_desempenho_extpython_tp_total[\"qtd_amostra_col\"].values\n",
    "ext_tp_total_Y = pivot_df_desempenho_extpython_tp_total[\"media\"].values\n",
    "lm_ext_total = lm_simples(ext_tp_total_X, ext_tp_total_Y)\n",
    "print(lm_ext_total)\n",
    "plt.scatter(ext_tp_total_X,ext_tp_total_Y)\n",
    "plt.plot(ext_tp_total_X,lm_ext_total[\"b0\"] + (lm_ext_total[\"b1\"])*ext_tp_total_X, color=\"red\")\n"
   ]
  },
  {
   "cell_type": "code",
   "execution_count": null,
   "metadata": {},
   "outputs": [],
   "source": [
    "#pivot_df_desempenho_extpython_tp_python.plot(y='media', x='qtd_amostra_col')\n",
    "ext_tp_python_X = pivot_df_desempenho_extpython_tp_python[\"qtd_amostra_col\"].values\n",
    "ext_tp_python_Y = pivot_df_desempenho_extpython_tp_python[\"media\"].values\n",
    "lm_ext_python = lm_simples(ext_tp_python_X, ext_tp_python_Y)\n",
    "print(lm_ext_python)\n",
    "plt.scatter(ext_tp_python_X,ext_tp_python_Y)\n",
    "plt.plot(ext_tp_python_X,lm_ext_python[\"b0\"] + (lm_ext_python[\"b1\"])*ext_tp_python_X, color=\"red\")\n"
   ]
  },
  {
   "cell_type": "code",
   "execution_count": null,
   "metadata": {},
   "outputs": [],
   "source": [
    "#pivot_df_desempenho_mssql_tp_total.plot(y='media', x='qtd_amostra_col')\n",
    "mssql_tp_total_X = pivot_df_desempenho_mssql_tp_total[\"qtd_amostra_col\"].values\n",
    "mssql_tp_total_Y = pivot_df_desempenho_mssql_tp_total[\"media\"].values\n",
    "lm_mssql_total = lm_simples(mssql_tp_total_X, mssql_tp_total_Y)\n",
    "print(lm_mssql_total)\n",
    "plt.scatter(mssql_tp_total_X,mssql_tp_total_Y)\n",
    "plt.plot(mssql_tp_total_X,lm_mssql_total[\"b0\"] + (lm_mssql_total[\"b1\"])*mssql_tp_total_X, color=\"red\")\n"
   ]
  },
  {
   "cell_type": "code",
   "execution_count": null,
   "metadata": {},
   "outputs": [],
   "source": [
    "#pivot_df_desempenho_mssql_tp_python.plot(y='media', x='qtd_amostra_col')\n",
    "mssql_tp_python_X = pivot_df_desempenho_mssql_tp_python[\"qtd_amostra_col\"].values\n",
    "mssql_tp_python_Y = pivot_df_desempenho_mssql_tp_python[\"media\"].values\n",
    "lm_mssql_python = lm_simples(mssql_tp_python_X, mssql_tp_python_Y)\n",
    "print(lm_mssql_python)\n",
    "plt.scatter(mssql_tp_python_X,mssql_tp_python_Y)\n",
    "plt.plot(mssql_tp_python_X,lm_mssql_python[\"b0\"] + (lm_mssql_python[\"b1\"])*mssql_tp_python_X, color=\"red\")\n"
   ]
  },
  {
   "cell_type": "code",
   "execution_count": null,
   "metadata": {},
   "outputs": [],
   "source": [
    "pivot_df_desempenho = pd.DataFrame()\n",
    "pivot_df_desempenho[\"qtd_amostra_col\"] = pivot_df_desempenho_mssql_tp_total[\"qtd_amostra_col\"]\n",
    "\n",
    "pivot_df_desempenho[\"media_mssql_tp_python\"] = pivot_df_desempenho_mssql_tp_python[\"media\"]\n",
    "pivot_df_desempenho[\"sem_mssql_tp_python\"] = pivot_df_desempenho_mssql_tp_python[\"sem\"] \n",
    "\n",
    "pivot_df_desempenho[\"media_mssql_tp_total\"] = pivot_df_desempenho_mssql_tp_total[\"media\"]\n",
    "pivot_df_desempenho[\"sem_mssql_tp_total\"] = pivot_df_desempenho_mssql_tp_total[\"sem\"]\n",
    "\n",
    "pivot_df_desempenho[\"media_extpython_tp_python\"] = pivot_df_desempenho_extpython_tp_python[\"media\"]\n",
    "pivot_df_desempenho[\"sem_extpython_tp_python\"] = pivot_df_desempenho_extpython_tp_python[\"sem\"]\n",
    "\n",
    "pivot_df_desempenho[\"media_extpython_tp_total\"] = pivot_df_desempenho_extpython_tp_total[\"media\"]\n",
    "pivot_df_desempenho[\"sem_extpython_tp_total\"] = pivot_df_desempenho_extpython_tp_total[\"sem\"]\n",
    "\n",
    "pivot_df_desempenho[\"porc_media_mssql_python_vs_total\"] = 100*(pivot_df_desempenho[\"media_mssql_tp_python\"]/pivot_df_desempenho[\"media_mssql_tp_total\"])\n",
    "pivot_df_desempenho[\"porc_media_extpython_python_vs_total\"] = 100*(pivot_df_desempenho[\"media_extpython_tp_python\"]/pivot_df_desempenho[\"media_extpython_tp_total\"])\n",
    "\n",
    "pivot_df_desempenho"
   ]
  },
  {
   "cell_type": "code",
   "execution_count": null,
   "metadata": {},
   "outputs": [],
   "source": [
    "pivot_df_desempenho.plot(y='porc_media_mssql_python_vs_total', x='qtd_amostra_col')\n",
    "#A contribuição do tempo do python parece aumentar no sql server.\n",
    "#Isso pode significar que, como os dados estão próximos do algoritmo,\n",
    "#a medida que a quantidade de dados aumenta, o impacto na entrega dos dados\n",
    "#não segue a mesma distribuição."
   ]
  },
  {
   "cell_type": "code",
   "execution_count": null,
   "metadata": {},
   "outputs": [],
   "source": [
    "pivot_df_desempenho.plot(y='porc_media_extpython_python_vs_total', x='qtd_amostra_col')\n",
    "#O custo de buscar o dado no banco aumenta consideravelmente\n",
    "#com o volume tornando o tempo de processamento pouco impactante no \n",
    "#total da operação."
   ]
  },
  {
   "cell_type": "code",
   "execution_count": null,
   "metadata": {},
   "outputs": [],
   "source": [
    "df_aux = df_desempenho_mssql.query(\"qtd_amostra == 1000\")\n",
    "print(df_aux[\"tmp_python\"].mean())\n",
    "print(df_aux[\"tmp_python\"].median())\n",
    "df_aux.head()\n",
    "#diamonds.head()\n"
   ]
  },
  {
   "cell_type": "code",
   "execution_count": null,
   "metadata": {},
   "outputs": [],
   "source": [
    "x = pivot_df_desempenho.as_matrix() #returns a numpy array\n",
    "min_max_scaler = preprocessing.MinMaxScaler(feature_range=(0.1,1))\n",
    "x_scaled = min_max_scaler.fit_transform(x)\n",
    "df = pd.DataFrame(x_scaled)\n",
    "df.columns = pivot_df_desempenho.columns\n",
    "df"
   ]
  },
  {
   "cell_type": "code",
   "execution_count": null,
   "metadata": {},
   "outputs": [],
   "source": [
    "#ggboxplot(df, x = \"qtd_amostra_col\", y = \"media_mssql_tp_python\", color = \"qtd_amostra_col\", palette = \"jco\")\n",
    "plt.boxplot(df_desempenho_mssql.query(\"qtd_amostra == 1024000\")[\"tmp_python\"])\n",
    "#plt.boxplot(df_desempenho_extpython.query(\"qtd_amostra == 1024000\")[\"tmp_python\"])\n",
    "\n"
   ]
  },
  {
   "cell_type": "code",
   "execution_count": null,
   "metadata": {},
   "outputs": [],
   "source": [
    "tstat = sp.stats.ttest_ind(df_desempenho_extpython.query(\"qtd_amostra == 1000\")[\"tmp_python\"], \n",
    "                   df_desempenho_mssql.query(\"qtd_amostra == 1000\")[\"tmp_python\"])\n",
    "\n",
    "tstat"
   ]
  },
  {
   "cell_type": "code",
   "execution_count": null,
   "metadata": {},
   "outputs": [],
   "source": [
    "ggplot(df_desempenho_mssql.query(\"qtd_amostra == 1000\"), aes(x='tmp_python')) +\\\n",
    "    geom_density(alpha=0.25) \n",
    "#+ geom_vline(xintercept=df_aux[\"tmp_python\"].mean(), linetype=\"dotted\")\n"
   ]
  },
  {
   "cell_type": "code",
   "execution_count": null,
   "metadata": {},
   "outputs": [],
   "source": [
    "ggplot(df_desempenho_mssql.query(\"qtd_amostra == 1024000\"), aes(x='tmp_python')) +\\\n",
    "    geom_density(alpha=0.25)"
   ]
  },
  {
   "cell_type": "code",
   "execution_count": null,
   "metadata": {},
   "outputs": [],
   "source": [
    "ggplot(df_desempenho_mssql.query(\"qtd_amostra == 1024000\"), aes(x='tmp_total')) +\\\n",
    "    geom_density(alpha=0.25)"
   ]
  },
  {
   "cell_type": "code",
   "execution_count": null,
   "metadata": {},
   "outputs": [],
   "source": [
    "ggplot(df_desempenho_extpython.query(\"qtd_amostra == 1024000\"), aes(x='tmp_total')) +\\\n",
    "    geom_density(alpha=0.25)"
   ]
  }
 ],
 "metadata": {
  "kernelspec": {
   "display_name": "Python 3",
   "language": "python",
   "name": "python3"
  },
  "language_info": {
   "codemirror_mode": {
    "name": "ipython",
    "version": 3
   },
   "file_extension": ".py",
   "mimetype": "text/x-python",
   "name": "python",
   "nbconvert_exporter": "python",
   "pygments_lexer": "ipython3",
   "version": "3.6.3"
  }
 },
 "nbformat": 4,
 "nbformat_minor": 2
}
